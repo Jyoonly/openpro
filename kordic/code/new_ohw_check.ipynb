{
 "cells": [
  {
   "cell_type": "code",
   "execution_count": null,
   "metadata": {},
   "outputs": [],
   "source": [
    "import pandas as pd\n",
    "\n",
    "tar = pd.read_csv('/Users/anjonghyeon/Desktop/KU/민족문화연구원 사전실/openpro/kordic/result/result1_0103.csv')"
   ]
  },
  {
   "cell_type": "code",
   "execution_count": 33,
   "metadata": {},
   "outputs": [
    {
     "name": "stdout",
     "output_type": "stream",
     "text": [
      "112.0 가갑다 0.0\n",
      "438.0 가꼬다 0.0\n",
      "444.0 가꿈 0.0\n",
      "1453.0 가마이 0.0\n",
      "6159.0 갈리 0.0\n",
      "41302.0 굴목 0.0\n",
      "44956.0 그림판 0.0\n",
      "45836.0 근디 0.0\n"
     ]
    }
   ],
   "source": [
    "tar = tar.fillna('')\n",
    "LEN = len(tar)\n",
    "for i in range(LEN):\n",
    "    if tar.loc[i, '제공처ID'] != '':\n",
    "        if tar.loc[i, '엔트리ID'] == '':\n",
    "            print(tar.loc[i, '제공처ID'], tar.loc[i, '제공처표제어'], tar.loc[i, '어깨번호'])"
   ]
  },
  {
   "cell_type": "markdown",
   "metadata": {},
   "source": [
    "### 안봐도 됨"
   ]
  }
 ],
 "metadata": {
  "kernelspec": {
   "display_name": "openproenv",
   "language": "python",
   "name": "python3"
  },
  "language_info": {
   "codemirror_mode": {
    "name": "ipython",
    "version": 3
   },
   "file_extension": ".py",
   "mimetype": "text/x-python",
   "name": "python",
   "nbconvert_exporter": "python",
   "pygments_lexer": "ipython3",
   "version": "3.11.7"
  }
 },
 "nbformat": 4,
 "nbformat_minor": 2
}
